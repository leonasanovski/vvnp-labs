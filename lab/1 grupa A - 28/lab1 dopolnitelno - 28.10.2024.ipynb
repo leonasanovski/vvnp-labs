{
 "nbformat": 4,
 "nbformat_minor": 0,
 "metadata": {
  "colab": {
   "provenance": []
  },
  "kernelspec": {
   "name": "python3",
   "display_name": "Python 3 (ipykernel)",
   "language": "python"
  },
  "language_info": {
   "name": "python"
  }
 },
 "cells": [
  {
   "cell_type": "markdown",
   "source": [
    "# Requirements"
   ],
   "metadata": {
    "id": "fU3LwS741EZQ"
   }
  },
  {
   "cell_type": "code",
   "source": [
    "from selenium import webdriver\n",
    "from selenium.webdriver.common.by import By\n",
    "import pandas as pd\n",
    "import matplotlib.pyplot as plt\n",
    "import seaborn as sns\n",
    "import plotly.express as px\n",
    "from traitlets import Integer"
   ],
   "metadata": {
    "id": "4aqZf-9e1aKt",
    "ExecuteTime": {
     "end_time": "2024-10-31T20:03:26.510428Z",
     "start_time": "2024-10-31T20:03:26.506736Z"
    }
   },
   "outputs": [],
   "execution_count": 17
  },
  {
   "cell_type": "markdown",
   "source": [
    "# Configuration"
   ],
   "metadata": {
    "id": "eVCAmQfy1rqh"
   }
  },
  {
   "cell_type": "code",
   "source": [
    "options = webdriver.ChromeOptions()\n",
    "options.add_argument('--headless')\n",
    "options.add_argument('--no-sandbox')\n",
    "options.add_argument('--disable-dev-shm-usage')"
   ],
   "metadata": {
    "id": "wWzehF8809IJ",
    "ExecuteTime": {
     "end_time": "2024-10-31T20:03:29.238120Z",
     "start_time": "2024-10-31T20:03:29.234938Z"
    }
   },
   "outputs": [],
   "execution_count": 18
  },
  {
   "cell_type": "markdown",
   "source": [
    "# Simple Usage"
   ],
   "metadata": {
    "id": "3FU-fkTj1zEC"
   }
  },
  {
   "cell_type": "code",
   "source": [
    "# Initialize the webdriver.\n",
    "browser = webdriver.Chrome(options=options)"
   ],
   "metadata": {
    "id": "gGB1un_t10_N",
    "ExecuteTime": {
     "end_time": "2024-10-31T20:03:50.647113Z",
     "start_time": "2024-10-31T20:03:31.397308Z"
    }
   },
   "outputs": [
    {
     "name": "stdout",
     "output_type": "stream",
     "text": [
      "asdassd\n"
     ]
    }
   ],
   "execution_count": 19
  },
  {
   "cell_type": "code",
   "metadata": {
    "id": "8EYuaHWxa-wR",
    "ExecuteTime": {
     "end_time": "2024-10-31T20:04:01.216234Z",
     "start_time": "2024-10-31T20:03:54.823074Z"
    }
   },
   "source": [
    "# Navigate to a web page.\n",
    "browser.get('https://www.apple.com/mk/')"
   ],
   "outputs": [],
   "execution_count": 20
  },
  {
   "cell_type": "code",
   "source": [
    "# Print the page source code.\n",
    "print(browser.page_source)"
   ],
   "metadata": {
    "id": "HWnwzCye2Fq1"
   },
   "execution_count": null,
   "outputs": []
  },
  {
   "cell_type": "code",
   "source": [
    "# Select an element from the page.\n",
    "element = browser.find_element(By.CLASS_NAME, 'headline')"
   ],
   "metadata": {
    "id": "H-5h-xse2L8I"
   },
   "execution_count": null,
   "outputs": []
  },
  {
   "cell_type": "code",
   "source": [
    "# Print the element's innner text.\n",
    "print(element.text)"
   ],
   "metadata": {
    "id": "Rne65WGs3CJs"
   },
   "execution_count": null,
   "outputs": []
  },
  {
   "cell_type": "markdown",
   "source": [
    "# Laboratory Exercise - Run Mode (8 points)"
   ],
   "metadata": {
    "id": "JzaK-Awf4hKN"
   }
  },
  {
   "cell_type": "markdown",
   "source": [
    "In this laboratory assignment, the goal is to perform web scraping on the website https://books.toscrape.com/. Your task includes the extraction of book titles and prices for a minimum of 20 books from this website. Following this data extraction, you will construct a data frame to organize the collected data. Finally, you are expected to generate a histogram to provide a visual representation of the distribution of book prices."
   ],
   "metadata": {
    "id": "S0YnPh8r4p7M"
   }
  },
  {
   "cell_type": "markdown",
   "source": [
    "## Hints\n",
    "- To navigate to a specific page with a given URL, use the `browser.get(url)` method.\n",
    "- When selecting a single element, use `browser.find_element`, and for multiple elements, use `browser.find_elements`. Both of these functions take two arguments. The first specifies the attribute used to locate the element on the web page, and the second specifies the value of that attribute.\n",
    "- The `By` class is used to specify which attribute is used to locate elements on a page. These are the various ways the attributes are used to locate elements on a page: `By.ID`, `By.NAME`, `By.TAG_NAME`, `BY.CLASS_NAME`, `By.CSS_SELECTOR`, etc.\n",
    "- For more details, check the documentation (https://selenium-python.readthedocs.io/locating-elements.html)."
   ],
   "metadata": {
    "id": "pAWUA3br7pnH"
   }
  },
  {
   "cell_type": "markdown",
   "source": [
    "## Solution"
   ],
   "metadata": {
    "id": "JsyFl54d-79Y"
   }
  },
  {
   "cell_type": "code",
   "source": [
    "driver = webdriver.Chrome()\n",
    "driver.get('https://books.toscrape.com/')\n",
    "book_titles = driver.find_elements(By.CSS_SELECTOR, '.product_pod h3 a')\n",
    "book_prices = driver.find_elements(By.CSS_SELECTOR, '.product_price p:first-of-type')\n",
    "data = []\n",
    "for i in range(len(book_titles)):\n",
    "    dictionary = {\n",
    "        \"Book:\" : book_titles[i].get_attribute(\"title\"),\n",
    "        \"Price:\" : book_prices[i].text.replace('£','')\n",
    "    }\n",
    "    data.append(dictionary)\n",
    "df = pd.DataFrame(data)\n",
    "df.to_csv('data_28.10.2024_1.csv')\n",
    "plt.hist(df['Price:'], bins=30)\n",
    "plt.xlabel('Price')\n",
    "plt.ylabel('Count')\n",
    "plt.xticks(rotation=315)\n",
    "driver.quit()"
   ],
   "metadata": {
    "id": "LZIHRH7f3F00",
    "ExecuteTime": {
     "end_time": "2024-10-31T21:46:46.853285Z",
     "start_time": "2024-10-31T21:46:43.545811Z"
    }
   },
   "outputs": [
    {
     "data": {
      "text/plain": [
       "<Figure size 640x480 with 1 Axes>"
      ],
      "image/png": "[encoded data removed]"
     },
     "metadata": {},
     "output_type": "display_data"
    }
   ],
   "execution_count": 88
  },
  {
   "cell_type": "markdown",
   "source": [
    "# Laboratory Exercise - Bonus Task (+ 2 points)"
   ],
   "metadata": {
    "id": "UyMTnSHn681f"
   }
  },
  {
   "cell_type": "markdown",
   "source": [
    "As an additional task, you will need to click on each book listed on the page, proceed to the individual page for each book, and extract the quantity of available copies. Subsequently, you are required to compute both the mean and standard deviation of the quantities of these books."
   ],
   "metadata": {
    "id": "aMhYrG8V7hKY"
   }
  },
  {
   "cell_type": "markdown",
   "source": [
    "## Hints\n",
    "- To click on a specific `element` on a web page use `element.click()`.\n",
    "- To navigate back to the previous page use `browser.back()`."
   ],
   "metadata": {
    "id": "jQIBbGWS9-tx"
   }
  },
  {
   "cell_type": "markdown",
   "source": [
    "## Solution"
   ],
   "metadata": {
    "id": "lxPS-iXi-5fO"
   }
  },
  {
   "metadata": {
    "id": "kbuPg7136_2q",
    "ExecuteTime": {
     "end_time": "2024-10-31T21:48:08.692603Z",
     "start_time": "2024-10-31T21:47:51.722713Z"
    }
   },
   "cell_type": "code",
   "source": [
    "df = pd.read_csv('data_28.10.2024_1.csv')\n",
    "df['Stock'] = 0\n",
    "count_of_elements = len(df['Book:'])\n",
    "driver = webdriver.Chrome()\n",
    "driver.get('https://books.toscrape.com/')\n",
    "\n",
    "for i in range(20):\n",
    "    book_urls = driver.find_elements(By.CSS_SELECTOR, '.image_container a')\n",
    "    url_of_a_book = book_urls[i].get_attribute(\"href\")\n",
    "    driver.get(url_of_a_book)\n",
    "    in_stock = driver.find_element(By.CSS_SELECTOR,'.instock').text.split()[2].replace('(','')\n",
    "    df.loc[i, 'Stock'] = int(in_stock)\n",
    "    driver.get('https://books.toscrape.com/')\n",
    "    \n",
    "driver.quit()\n",
    "df.drop('Unnamed: 0', axis=1, inplace=True)\n",
    "print(f\"The mean for the category Price is {df['Stock'].mean()}.\")\n",
    "print(f\"The standard deviation for the category Price is {df['Stock'].std()}.\")\n",
    "plt.boxplot(df['Stock'])\n",
    "df.to_csv('data_28.10.2024_2.csv')"
   ],
   "outputs": [
    {
     "name": "stdout",
     "output_type": "stream",
     "text": [
      "The mean for the category Price is 19.35.\n",
      "The standard deviation for the category Price is 0.7451598203705946.\n"
     ]
    },
    {
     "data": {
      "text/plain": [
       "<Figure size 640x480 with 1 Axes>"
      ],
      "image/png": "[encoded data removed]"
     },
     "metadata": {},
     "output_type": "display_data"
    }
   ],
   "execution_count": 91
  },
  {
   "metadata": {},
   "cell_type": "code",
   "outputs": [],
   "execution_count": null,
   "source": ""
  }
 ]
}
