{
 "nbformat": 4,
 "nbformat_minor": 0,
 "metadata": {
  "colab": {
   "provenance": []
  },
  "kernelspec": {
   "name": "python3",
   "display_name": "Python 3 (ipykernel)",
   "language": "python"
  },
  "language_info": {
   "name": "python"
  }
 },
 "cells": [
  {
   "cell_type": "markdown",
   "source": [
    "# Lab Exercise 1. Scraping Static Websites\n"
   ],
   "metadata": {
    "id": "skreU4ZawqQ_"
   }
  },
  {
   "cell_type": "markdown",
   "source": [
    "This is the warmup task for the first laboratory exercise. It consists of scraping static Websites with BeautifulSoap.\n",
    "\n",
    " It should be completed at home and presented at the laboratory."
   ],
   "metadata": {
    "id": "VzAWoqz5wwT9"
   }
  },
  {
   "cell_type": "markdown",
   "source": [
    "**Total points: 2**"
   ],
   "metadata": {
    "id": "qpdvbrsow5EE"
   }
  },
  {
   "cell_type": "markdown",
   "source": [
    "### Task Description"
   ],
   "metadata": {
    "id": "6eDmGLrXx0t8"
   }
  },
  {
   "cell_type": "markdown",
   "source": [
    "Scrape the information about the products on the following page:\n",
    "https://clevershop.mk/product-category/mobilni-laptopi-i-tableti/"
   ],
   "metadata": {
    "id": "RG42MHsDxAP_"
   }
  },
  {
   "cell_type": "markdown",
   "source": [
    "For each product scrape:\n",
    "\n",
    "\n",
    "*   Product title (selector `'.wd-entities-title'`)\n",
    "*   Product regular price (selector `'.woocommerce-Price-amount'`)\n",
    "*   Product discount price (if available), same selector as regular price\n",
    "*   URL to the product page\n",
    "*   Add to cart button URL\n",
    "\n",
    "***Help: There are multiple product pages, for each page you need to send a separate request***\n"
   ],
   "metadata": {
    "id": "uoTcMRl4xP3G"
   }
  },
  {
   "cell_type": "markdown",
   "source": [
    "Save the results as a DataFrame object"
   ],
   "metadata": {
    "id": "tc0QvUR8xxwt"
   }
  },
  {
   "cell_type": "markdown",
   "source": [
    "You can add as many code cells as you need."
   ],
   "metadata": {
    "id": "peGjiUZLzbZt"
   }
  },
  {
   "cell_type": "markdown",
   "source": [
    "________________________________________________________________"
   ],
   "metadata": {
    "id": "b7U-kwKSzUIV"
   }
  },
  {
   "cell_type": "markdown",
   "source": [
    "### Requirements"
   ],
   "metadata": {
    "id": "yn5gyMzNx5Vk"
   }
  },
  {
   "cell_type": "markdown",
   "source": [
    "Import libraries and modules that you are going to use"
   ],
   "metadata": {
    "id": "WZ3ifNLhx7tk"
   }
  },
  {
   "cell_type": "code",
   "source": [
    "import requests\n",
    "from bs4 import BeautifulSoup\n",
    "import pandas as pd"
   ],
   "metadata": {
    "id": "GQ3zSO8WyJC_",
    "ExecuteTime": {
     "end_time": "2024-10-31T19:11:48.738550Z",
     "start_time": "2024-10-31T19:11:48.736045Z"
    }
   },
   "outputs": [],
   "execution_count": 33
  },
  {
   "cell_type": "markdown",
   "source": [
    "### Send HTTP request to the target Website"
   ],
   "metadata": {
    "id": "fsR71mugyJP7"
   }
  },
  {
   "cell_type": "code",
   "source": [
    "url = \"https://clevershop.mk/product-category/mobilni-laptopi-i-tableti/\"\n",
    "response = requests.get(url)\n",
    "print(response)"
   ],
   "metadata": {
    "id": "61ImGen2yQff",
    "ExecuteTime": {
     "end_time": "2024-10-31T19:11:49.980692Z",
     "start_time": "2024-10-31T19:11:48.752408Z"
    }
   },
   "outputs": [
    {
     "name": "stdout",
     "output_type": "stream",
     "text": [
      "<Response [200]>\n"
     ]
    }
   ],
   "execution_count": 34
  },
  {
   "cell_type": "markdown",
   "source": [
    "check the response status code"
   ],
   "metadata": {
    "id": "lFnRsSVJyXit"
   }
  },
  {
   "cell_type": "code",
   "source": "print(response.status_code)",
   "metadata": {
    "id": "xy6xJ3RGyXUN",
    "ExecuteTime": {
     "end_time": "2024-10-31T19:11:50.007875Z",
     "start_time": "2024-10-31T19:11:50.005459Z"
    }
   },
   "outputs": [
    {
     "name": "stdout",
     "output_type": "stream",
     "text": [
      "200\n"
     ]
    }
   ],
   "execution_count": 35
  },
  {
   "cell_type": "markdown",
   "source": [
    "### Parse the response content with BeautifulSoap"
   ],
   "metadata": {
    "id": "-MykzAV4yQ4j"
   }
  },
  {
   "cell_type": "code",
   "source": "soup = BeautifulSoup(response.text, \"html.parser\")",
   "metadata": {
    "id": "F92A3wvlyUBc",
    "ExecuteTime": {
     "end_time": "2024-10-31T19:11:50.077595Z",
     "start_time": "2024-10-31T19:11:50.020705Z"
    }
   },
   "outputs": [],
   "execution_count": 36
  },
  {
   "cell_type": "markdown",
   "source": [
    "### Extract data from the BeautifulSoap object using any selectors, attribute identifiers, etc."
   ],
   "metadata": {
    "id": "F8hifMvVycfV"
   }
  },
  {
   "cell_type": "markdown",
   "source": [
    "* Product title (selector '.wd-entities-title')\n",
    "* Product regular price (selector '.woocommerce-Price-amount')\n",
    "* Product discount price (if available), same selector as regular price\n",
    "* URL to the product page\n",
    "* Add to cart button URL"
   ],
   "metadata": {
    "id": "sHgfHr61y2tD"
   }
  },
  {
   "cell_type": "code",
   "source": [
    "data = []\n",
    "counter_for_pages = 1;\n",
    "while 1:\n",
    "    tmp_url = f\"{url}page/{counter_for_pages}\"\n",
    "    response = requests.get(tmp_url)\n",
    "\n",
    "    print(f\"Response code for page {counter_for_pages} is {response.status_code}\")\n",
    "    if requests.get(tmp_url).status_code != 200:\n",
    "        print(f\"The last page of the scraping was the {counter_for_pages-1}th page, so this page does not exist! That is why the scraping is finished\")\n",
    "        break\n",
    "    soup = BeautifulSoup(response.text, \"html.parser\")\n",
    "    # With the next line we are getting the titles of the product\n",
    "    product_titles = soup.select(\".product-wrapper .wd-entities-title\")\n",
    "    product_prices_list = soup.select(\".product-wrapper .price\")\n",
    "\n",
    "    regular_prices = []\n",
    "    discounted_prices = []\n",
    "    # Here i make the checking if there is discounted price and the regular price of a product in the list of products\n",
    "    for i in range(0, len(product_prices_list)):\n",
    "        if \"Original\" in product_prices_list[i].text.split(\" \"):\n",
    "            regular_prices.append(product_prices_list[i].text.split(\" \")[0])\n",
    "            discounted_prices.append(product_prices_list[i].text.split(\" \")[-1])\n",
    "        else:\n",
    "            regular_prices.append(product_prices_list[i].text.split(\" \")[0])\n",
    "            discounted_prices.append(\"0 ден\")\n",
    "    link_list = soup.select(\".product-wrapper .hover-img a\")\n",
    "    add_to_cart_buttons = soup.select(\".wd-add-btn a\")\n",
    "    print()\n",
    "    for k in range(len(link_list)):\n",
    "        link = link_list[k].get(\"href\")\n",
    "        product_title = product_titles[k].text\n",
    "        regular = regular_prices[k]\n",
    "        discounted = discounted_prices[k]\n",
    "        shopping_cart = add_to_cart_buttons[k].get(\"href\")\n",
    "        dictionary = {\n",
    "        \"Product title\": product_title,\n",
    "            \"Regular product price\": regular,\n",
    "            \"Discounted product price\": discounted,\n",
    "            \"Shopping cart ID\": shopping_cart,\n",
    "            \"Link for the product\": link\n",
    "        }\n",
    "        data.append(dictionary)\n",
    "    counter_for_pages += 1"
   ],
   "metadata": {
    "id": "UV1kZCRyycQF",
    "ExecuteTime": {
     "end_time": "2024-10-31T19:12:09.940968Z",
     "start_time": "2024-10-31T19:11:50.092467Z"
    }
   },
   "outputs": [
    {
     "name": "stdout",
     "output_type": "stream",
     "text": [
      "Response code for page 1 is 200\n",
      "\n",
      "Response code for page 2 is 200\n",
      "\n",
      "Response code for page 3 is 200\n",
      "\n",
      "Response code for page 4 is 200\n",
      "\n",
      "Response code for page 5 is 200\n",
      "\n",
      "Response code for page 6 is 200\n",
      "\n",
      "Response code for page 7 is 200\n",
      "\n",
      "Response code for page 8 is 200\n",
      "\n",
      "Response code for page 9 is 200\n",
      "\n",
      "Response code for page 10 is 200\n",
      "\n",
      "Response code for page 11 is 200\n",
      "\n",
      "Response code for page 12 is 200\n",
      "\n",
      "Response code for page 13 is 200\n",
      "\n",
      "Response code for page 14 is 200\n",
      "\n",
      "Response code for page 15 is 404\n",
      "The last page of the scraping was the 14th page, so this page does not exist! That is why the scraping is finished\n"
     ]
    }
   ],
   "execution_count": 37
  },
  {
   "cell_type": "markdown",
   "source": [
    "Repeat the extraction process for each page of products"
   ],
   "metadata": {
    "id": "gToy7d5Jy9Qk"
   }
  },
  {
   "cell_type": "code",
   "source": "#   already done above",
   "metadata": {
    "id": "rVdYuEv3zArs",
    "ExecuteTime": {
     "end_time": "2024-10-31T19:12:09.967475Z",
     "start_time": "2024-10-31T19:12:09.965490Z"
    }
   },
   "outputs": [],
   "execution_count": 38
  },
  {
   "cell_type": "markdown",
   "source": [
    "### Create a pandas DataFrame with the scraped products"
   ],
   "metadata": {
    "id": "R4OIUt0AynuU"
   }
  },
  {
   "cell_type": "code",
   "source": "data_frame = pd.DataFrame(data)",
   "metadata": {
    "id": "-wCzGEj8yrKU",
    "ExecuteTime": {
     "end_time": "2024-10-31T19:12:09.987632Z",
     "start_time": "2024-10-31T19:12:09.984550Z"
    }
   },
   "outputs": [],
   "execution_count": 39
  },
  {
   "cell_type": "markdown",
   "source": [
    "Save the dataframe as `.csv`"
   ],
   "metadata": {
    "id": "Rxbi54EOyrb8"
   }
  },
  {
   "cell_type": "code",
   "source": "data_frame.to_csv(\"data.csv\", index=False)",
   "metadata": {
    "id": "TLNfZQ07yuQE",
    "ExecuteTime": {
     "end_time": "2024-10-31T19:12:10.008315Z",
     "start_time": "2024-10-31T19:12:10.004516Z"
    }
   },
   "outputs": [],
   "execution_count": 40
  }
 ]
}
