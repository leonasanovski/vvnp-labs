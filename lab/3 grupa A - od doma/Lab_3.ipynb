{
 "nbformat": 4,
 "nbformat_minor": 0,
 "metadata": {
  "colab": {
   "provenance": []
  },
  "kernelspec": {
   "name": "python3",
   "display_name": "Python 3 (ipykernel)",
   "language": "python"
  },
  "language_info": {
   "name": "python"
  }
 },
 "cells": [
  {
   "cell_type": "markdown",
   "source": [
    "# Decision Trees and Gradient Boosting"
   ],
   "metadata": {
    "id": "v8vsWahSyK_i"
   }
  },
  {
   "cell_type": "markdown",
   "source": [
    "## Setting up the Environment"
   ],
   "metadata": {
    "id": "G4FVV4npyYwk"
   }
  },
  {
   "cell_type": "markdown",
   "source": [
    "For this laboratory exercise, you will need to install the Anaconda package & environment manager. We will install a minimal distribution, [Miniconda](https://docs.conda.io/projects/miniconda/en/latest/). Choose the adequate distribution for your operating system, download and install it."
   ],
   "metadata": {
    "id": "oqOCwZN6yb5y"
   }
  },
  {
   "cell_type": "markdown",
   "source": [
    "Or use the following commands:\n",
    "\n",
    "### Windows\n",
    "```shell\n",
    "curl https://repo.anaconda.com/miniconda/Miniconda3-latest-Windows-x86_64.exe -o miniconda.exe\n",
    "start /wait \"\" miniconda.exe /S\n",
    "del miniconda.exe\n",
    "```\n",
    "\n",
    "### Linux\n",
    "```shell\n",
    "mkdir -p ~/miniconda3\n",
    "wget https://repo.anaconda.com/miniconda/Miniconda3-latest-Linux-x86_64.sh -O ~/miniconda3/miniconda.sh\n",
    "bash ~/miniconda3/miniconda.sh -b -u -p ~/miniconda3\n",
    "rm -rf ~/miniconda3/miniconda.sh\n",
    "```\n",
    "\n",
    "### macOS\n",
    "\n",
    "```shell\n",
    "mkdir -p ~/miniconda3\n",
    "curl https://repo.anaconda.com/miniconda/Miniconda3-latest-MacOSX-arm64.sh -o ~/miniconda3/miniconda.sh\n",
    "bash ~/miniconda3/miniconda.sh -b -u -p ~/miniconda3\n",
    "rm -rf ~/miniconda3/miniconda.sh\n",
    "```\n",
    "\n",
    "For both Linux and macOS after installing, initialize your newly-installed Miniconda. The following commands initialize for bash and zsh shells:\n",
    "\n",
    "```shell\n",
    "~/miniconda3/bin/conda init bash\n",
    "~/miniconda3/bin/conda init zsh\n",
    "```\n"
   ],
   "metadata": {
    "id": "8spwO4azzN36"
   }
  },
  {
   "cell_type": "markdown",
   "source": [
    "Once you have installed miniconda, run the following commands to create an environment:\n",
    "```bash\n",
    "conda create --name myenv\n",
    "```\n",
    "\n",
    "'myenv' is the name of the environment, you can change the name however you want.\n",
    "\n",
    "When conda asks you to proceed, type y"
   ],
   "metadata": {
    "id": "TpcSfn6YzKKq"
   }
  },
  {
   "cell_type": "markdown",
   "source": [
    "After successfully creating the environment, activate it with the following command:\n",
    "```bash\n",
    "conda activate myenv\n",
    "```"
   ],
   "metadata": {
    "id": "y50T_G3h0DLA"
   }
  },
  {
   "cell_type": "markdown",
   "source": [
    "For more detailed information you can read the [documentation](https://conda.io/projects/conda/en/latest/user-guide/tasks/manage-environments.html#creating-an-environment-with-commands)."
   ],
   "metadata": {
    "id": "sqbnCQZv0cJw"
   }
  },
  {
   "cell_type": "markdown",
   "source": [
    "Now, once the environment is activated, proceed to install the required libraries.\n",
    "\n",
    "```bash\n",
    "pip install numpy pandas scikit-learn xgboost matplotlib seaborn gdown\n",
    "```"
   ],
   "metadata": {
    "id": "7XcNMost0mRq"
   }
  },
  {
   "cell_type": "markdown",
   "source": [
    "In the next step, we need to add the environment to jupyter. Use the following commands to install ipykernel and add the environment to ipykernel.\n",
    "\n",
    "```bash\n",
    "pip install ipykernel\n",
    "```\n",
    "```bash\n",
    "python -m ipykernel install --name=myenv\n",
    "```\n"
   ],
   "metadata": {
    "id": "rLANBz1Wv7rp"
   }
  },
  {
   "cell_type": "markdown",
   "source": [
    "Next, start Jupyter Notebook, download this starter notebook and open it. On the dropdown menu in the Kernel tab choose the name of the environment you created, like in the picture below.\n"
   ],
   "metadata": {
    "id": "aUFIbeBt1kaS"
   }
  },
  {
   "cell_type": "markdown",
   "source": [
    "![jupyter](https://drive.google.com/uc?export=view&id=1N-27jjlIgpTILi-_6lny7ng8sE52SAZx)\n"
   ],
   "metadata": {
    "id": "VwoFV34V2w2h"
   }
  },
  {
   "cell_type": "markdown",
   "source": [
    "## Download and Read the Dataset"
   ],
   "metadata": {
    "id": "OpVoOwf6yO4i"
   }
  },
  {
   "cell_type": "markdown",
   "source": [
    "run the code below for downloading the dataset"
   ],
   "metadata": {
    "id": "ohM0n8FwyR9n"
   }
  },
  {
   "cell_type": "markdown",
   "source": [
    "### Import the required libraries"
   ],
   "metadata": {
    "id": "I1ZTcNVV32yk"
   }
  },
  {
   "cell_type": "code",
   "source": [
    "import pandas as pd\n",
    "import numpy as np\n",
    "from sklearn import metrics\n",
    "from xgboost import XGBClassifier, XGBRegressor\n",
    "from sklearn.impute import SimpleImputer\n",
    "from sklearn.impute import KNNImputer\n",
    "from sklearn.preprocessing import LabelEncoder, OrdinalEncoder, OneHotEncoder, StandardScaler, MinMaxScaler\n",
    "from sklearn.tree import DecisionTreeClassifier,DecisionTreeRegressor\n",
    "from sklearn.model_selection import train_test_split\n",
    "from sklearn.metrics import classification_report, confusion_matrix\n",
    "from sklearn.metrics import f1_score, classification_report, confusion_matrix, mean_squared_error, mean_absolute_error,r2_score"
   ],
   "metadata": {
    "id": "M7Phib8Y3eqe",
    "ExecuteTime": {
     "end_time": "2024-12-05T20:15:13.986408Z",
     "start_time": "2024-12-05T20:15:13.981434Z"
    }
   },
   "outputs": [],
   "execution_count": 245
  },
  {
   "cell_type": "markdown",
   "source": [
    "### Read the dataset"
   ],
   "metadata": {
    "id": "wk0MCMKH35Ba"
   }
  },
  {
   "cell_type": "markdown",
   "source": [
    "CONTEXT:\n",
    "This is a dataset of electric vehicles.\n",
    "\n",
    "It contains the following columns:\n",
    "\n",
    "\n",
    "*   Brand\n",
    "*   Model\n",
    "*   AccelSec - Acceleration as 0-100 km/h\n",
    "*   TopSpeed_KmH - The top speed in km/h\n",
    "*   Range_Km - Range in km\n",
    "*   Efficiency_WhKm - Efficiency Wh/km\n",
    "*   FastCharge_KmH - Charge km/h\n",
    "*   RapidCharge - Yes / No\n",
    "*   PowerTrain - Front, rear, or all wheel drive\n",
    "*   PlugType\n",
    "*   BodyStyle - Basic size or style\n",
    "*   Segment - Market segment\n",
    "*   Seats - Number of seats\n",
    "*   PriceEuro - Price in Germany before tax incentives\n",
    "\n",
    "\n"
   ],
   "metadata": {
    "id": "pSBxYm244IcC"
   }
  },
  {
   "cell_type": "markdown",
   "source": [
    "TASK:\n",
    "Predict the target 'PriceEuro' and compare the performance of the DecisionTreeRegressor and the XGBRegressor models."
   ],
   "metadata": {
    "id": "ikjYEe5T5O8o"
   }
  },
  {
   "cell_type": "code",
   "source": "df = pd.read_csv(\"ElectricCarData.csv\")",
   "metadata": {
    "id": "aN-khP-Q3sau",
    "ExecuteTime": {
     "end_time": "2024-12-05T20:15:13.998597Z",
     "start_time": "2024-12-05T20:15:13.992566Z"
    }
   },
   "outputs": [],
   "execution_count": 246
  },
  {
   "cell_type": "code",
   "source": "df.head()",
   "metadata": {
    "colab": {
     "base_uri": "https://localhost:8080/",
     "height": 293
    },
    "id": "qfrbPmjm4Dxq",
    "outputId": "c8f58f32-2af1-4291-8278-c0eeb158bf79",
    "ExecuteTime": {
     "end_time": "2024-12-05T20:15:14.016256Z",
     "start_time": "2024-12-05T20:15:14.011734Z"
    }
   },
   "outputs": [
    {
     "data": {
      "text/plain": [
       "         Brand                          Model  AccelSec  TopSpeed_KmH  \\\n",
       "0       Tesla   Model 3 Long Range Dual Motor       4.6           233   \n",
       "1  Volkswagen                       ID.3 Pure      10.0           160   \n",
       "2    Polestar                               2       4.7           210   \n",
       "3         BMW                            iX3        6.8           180   \n",
       "4       Honda                              e        9.5           145   \n",
       "\n",
       "   Range_Km  Efficiency_WhKm FastCharge_KmH RapidCharge PowerTrain  \\\n",
       "0       450              161            940         Yes        AWD   \n",
       "1       270              167            250         Yes        RWD   \n",
       "2       400              181            620         Yes        AWD   \n",
       "3       360              206            560         Yes        RWD   \n",
       "4       170              168            190         Yes        RWD   \n",
       "\n",
       "     PlugType  BodyStyle Segment  Seats  PriceEuro  \n",
       "0  Type 2 CCS      Sedan       D      5      55480  \n",
       "1  Type 2 CCS  Hatchback       C      5      30000  \n",
       "2  Type 2 CCS   Liftback       D      5      56440  \n",
       "3  Type 2 CCS        SUV       D      5      68040  \n",
       "4  Type 2 CCS  Hatchback       B      4      32997  "
      ],
      "text/html": [
       "<div>\n",
       "<style scoped>\n",
       "    .dataframe tbody tr th:only-of-type {\n",
       "        vertical-align: middle;\n",
       "    }\n",
       "\n",
       "    .dataframe tbody tr th {\n",
       "        vertical-align: top;\n",
       "    }\n",
       "\n",
       "    .dataframe thead th {\n",
       "        text-align: right;\n",
       "    }\n",
       "</style>\n",
       "<table border=\"1\" class=\"dataframe\">\n",
       "  <thead>\n",
       "    <tr style=\"text-align: right;\">\n",
       "      <th></th>\n",
       "      <th>Brand</th>\n",
       "      <th>Model</th>\n",
       "      <th>AccelSec</th>\n",
       "      <th>TopSpeed_KmH</th>\n",
       "      <th>Range_Km</th>\n",
       "      <th>Efficiency_WhKm</th>\n",
       "      <th>FastCharge_KmH</th>\n",
       "      <th>RapidCharge</th>\n",
       "      <th>PowerTrain</th>\n",
       "      <th>PlugType</th>\n",
       "      <th>BodyStyle</th>\n",
       "      <th>Segment</th>\n",
       "      <th>Seats</th>\n",
       "      <th>PriceEuro</th>\n",
       "    </tr>\n",
       "  </thead>\n",
       "  <tbody>\n",
       "    <tr>\n",
       "      <th>0</th>\n",
       "      <td>Tesla</td>\n",
       "      <td>Model 3 Long Range Dual Motor</td>\n",
       "      <td>4.6</td>\n",
       "      <td>233</td>\n",
       "      <td>450</td>\n",
       "      <td>161</td>\n",
       "      <td>940</td>\n",
       "      <td>Yes</td>\n",
       "      <td>AWD</td>\n",
       "      <td>Type 2 CCS</td>\n",
       "      <td>Sedan</td>\n",
       "      <td>D</td>\n",
       "      <td>5</td>\n",
       "      <td>55480</td>\n",
       "    </tr>\n",
       "    <tr>\n",
       "      <th>1</th>\n",
       "      <td>Volkswagen</td>\n",
       "      <td>ID.3 Pure</td>\n",
       "      <td>10.0</td>\n",
       "      <td>160</td>\n",
       "      <td>270</td>\n",
       "      <td>167</td>\n",
       "      <td>250</td>\n",
       "      <td>Yes</td>\n",
       "      <td>RWD</td>\n",
       "      <td>Type 2 CCS</td>\n",
       "      <td>Hatchback</td>\n",
       "      <td>C</td>\n",
       "      <td>5</td>\n",
       "      <td>30000</td>\n",
       "    </tr>\n",
       "    <tr>\n",
       "      <th>2</th>\n",
       "      <td>Polestar</td>\n",
       "      <td>2</td>\n",
       "      <td>4.7</td>\n",
       "      <td>210</td>\n",
       "      <td>400</td>\n",
       "      <td>181</td>\n",
       "      <td>620</td>\n",
       "      <td>Yes</td>\n",
       "      <td>AWD</td>\n",
       "      <td>Type 2 CCS</td>\n",
       "      <td>Liftback</td>\n",
       "      <td>D</td>\n",
       "      <td>5</td>\n",
       "      <td>56440</td>\n",
       "    </tr>\n",
       "    <tr>\n",
       "      <th>3</th>\n",
       "      <td>BMW</td>\n",
       "      <td>iX3</td>\n",
       "      <td>6.8</td>\n",
       "      <td>180</td>\n",
       "      <td>360</td>\n",
       "      <td>206</td>\n",
       "      <td>560</td>\n",
       "      <td>Yes</td>\n",
       "      <td>RWD</td>\n",
       "      <td>Type 2 CCS</td>\n",
       "      <td>SUV</td>\n",
       "      <td>D</td>\n",
       "      <td>5</td>\n",
       "      <td>68040</td>\n",
       "    </tr>\n",
       "    <tr>\n",
       "      <th>4</th>\n",
       "      <td>Honda</td>\n",
       "      <td>e</td>\n",
       "      <td>9.5</td>\n",
       "      <td>145</td>\n",
       "      <td>170</td>\n",
       "      <td>168</td>\n",
       "      <td>190</td>\n",
       "      <td>Yes</td>\n",
       "      <td>RWD</td>\n",
       "      <td>Type 2 CCS</td>\n",
       "      <td>Hatchback</td>\n",
       "      <td>B</td>\n",
       "      <td>4</td>\n",
       "      <td>32997</td>\n",
       "    </tr>\n",
       "  </tbody>\n",
       "</table>\n",
       "</div>"
      ]
     },
     "execution_count": 247,
     "metadata": {},
     "output_type": "execute_result"
    }
   ],
   "execution_count": 247
  },
  {
   "metadata": {
    "ExecuteTime": {
     "end_time": "2024-12-05T20:15:14.041005Z",
     "start_time": "2024-12-05T20:15:14.039220Z"
    }
   },
   "cell_type": "code",
   "source": "df = df.drop(columns='Model')",
   "outputs": [],
   "execution_count": 248
  },
  {
   "cell_type": "markdown",
   "source": [
    "### Encode string variables"
   ],
   "metadata": {
    "id": "rA23aFaJ38gc"
   }
  },
  {
   "cell_type": "code",
   "source": "df.isnull().sum()",
   "metadata": {
    "id": "XWqGjWes4BW5",
    "ExecuteTime": {
     "end_time": "2024-12-05T20:15:14.087732Z",
     "start_time": "2024-12-05T20:15:14.061707Z"
    }
   },
   "outputs": [
    {
     "data": {
      "text/plain": [
       "Brand              0\n",
       "AccelSec           0\n",
       "TopSpeed_KmH       0\n",
       "Range_Km           0\n",
       "Efficiency_WhKm    0\n",
       "FastCharge_KmH     0\n",
       "RapidCharge        0\n",
       "PowerTrain         0\n",
       "PlugType           0\n",
       "BodyStyle          0\n",
       "Segment            0\n",
       "Seats              0\n",
       "PriceEuro          0\n",
       "dtype: int64"
      ]
     },
     "execution_count": 249,
     "metadata": {},
     "output_type": "execute_result"
    }
   ],
   "execution_count": 249
  },
  {
   "metadata": {
    "ExecuteTime": {
     "end_time": "2024-12-05T20:15:14.122345Z",
     "start_time": "2024-12-05T20:15:14.120750Z"
    }
   },
   "cell_type": "code",
   "source": "# df = df.drop(columns=['Model'],axis=1)",
   "outputs": [],
   "execution_count": 250
  },
  {
   "metadata": {
    "ExecuteTime": {
     "end_time": "2024-12-05T20:15:14.156442Z",
     "start_time": "2024-12-05T20:15:14.151644Z"
    }
   },
   "cell_type": "code",
   "source": "df.info()",
   "outputs": [
    {
     "name": "stdout",
     "output_type": "stream",
     "text": [
      "<class 'pandas.core.frame.DataFrame'>\n",
      "RangeIndex: 103 entries, 0 to 102\n",
      "Data columns (total 13 columns):\n",
      " #   Column           Non-Null Count  Dtype  \n",
      "---  ------           --------------  -----  \n",
      " 0   Brand            103 non-null    object \n",
      " 1   AccelSec         103 non-null    float64\n",
      " 2   TopSpeed_KmH     103 non-null    int64  \n",
      " 3   Range_Km         103 non-null    int64  \n",
      " 4   Efficiency_WhKm  103 non-null    int64  \n",
      " 5   FastCharge_KmH   103 non-null    object \n",
      " 6   RapidCharge      103 non-null    object \n",
      " 7   PowerTrain       103 non-null    object \n",
      " 8   PlugType         103 non-null    object \n",
      " 9   BodyStyle        103 non-null    object \n",
      " 10  Segment          103 non-null    object \n",
      " 11  Seats            103 non-null    int64  \n",
      " 12  PriceEuro        103 non-null    int64  \n",
      "dtypes: float64(1), int64(5), object(7)\n",
      "memory usage: 10.6+ KB\n"
     ]
    }
   ],
   "execution_count": 251
  },
  {
   "cell_type": "markdown",
   "source": [
    "## Split the dataset for training and testing in ratio 80:20"
   ],
   "metadata": {
    "id": "ZaeQsLIV4CS5"
   }
  },
  {
   "cell_type": "code",
   "source": "encoder = OrdinalEncoder()",
   "metadata": {
    "id": "zCVY_u5a5bIq",
    "ExecuteTime": {
     "end_time": "2024-12-05T20:15:14.175907Z",
     "start_time": "2024-12-05T20:15:14.174487Z"
    }
   },
   "outputs": [],
   "execution_count": 252
  },
  {
   "metadata": {
    "ExecuteTime": {
     "end_time": "2024-12-05T20:15:14.189231Z",
     "start_time": "2024-12-05T20:15:14.184201Z"
    }
   },
   "cell_type": "code",
   "source": [
    "for column in df.columns:\n",
    "    # print(df[column][0])\n",
    "    if type(df[column][0]) == str:\n",
    "        df[[column]] = encoder.fit_transform(df[[column]])"
   ],
   "outputs": [],
   "execution_count": 253
  },
  {
   "metadata": {
    "ExecuteTime": {
     "end_time": "2024-12-05T20:15:14.204285Z",
     "start_time": "2024-12-05T20:15:14.199341Z"
    }
   },
   "cell_type": "code",
   "source": "df.head()",
   "outputs": [
    {
     "data": {
      "text/plain": [
       "   Brand  AccelSec  TopSpeed_KmH  Range_Km  Efficiency_WhKm  FastCharge_KmH  \\\n",
       "0   30.0       4.6           233       450              161            50.0   \n",
       "1   31.0      10.0           160       270              167             7.0   \n",
       "2   23.0       4.7           210       400              181            36.0   \n",
       "3    2.0       6.8           180       360              206            32.0   \n",
       "4    9.0       9.5           145       170              168             2.0   \n",
       "\n",
       "   RapidCharge  PowerTrain  PlugType  BodyStyle  Segment  Seats  PriceEuro  \n",
       "0          1.0         0.0       2.0        7.0      3.0      5      55480  \n",
       "1          1.0         2.0       2.0        1.0      2.0      5      30000  \n",
       "2          1.0         0.0       2.0        2.0      3.0      5      56440  \n",
       "3          1.0         2.0       2.0        6.0      3.0      5      68040  \n",
       "4          1.0         2.0       2.0        1.0      1.0      4      32997  "
      ],
      "text/html": [
       "<div>\n",
       "<style scoped>\n",
       "    .dataframe tbody tr th:only-of-type {\n",
       "        vertical-align: middle;\n",
       "    }\n",
       "\n",
       "    .dataframe tbody tr th {\n",
       "        vertical-align: top;\n",
       "    }\n",
       "\n",
       "    .dataframe thead th {\n",
       "        text-align: right;\n",
       "    }\n",
       "</style>\n",
       "<table border=\"1\" class=\"dataframe\">\n",
       "  <thead>\n",
       "    <tr style=\"text-align: right;\">\n",
       "      <th></th>\n",
       "      <th>Brand</th>\n",
       "      <th>AccelSec</th>\n",
       "      <th>TopSpeed_KmH</th>\n",
       "      <th>Range_Km</th>\n",
       "      <th>Efficiency_WhKm</th>\n",
       "      <th>FastCharge_KmH</th>\n",
       "      <th>RapidCharge</th>\n",
       "      <th>PowerTrain</th>\n",
       "      <th>PlugType</th>\n",
       "      <th>BodyStyle</th>\n",
       "      <th>Segment</th>\n",
       "      <th>Seats</th>\n",
       "      <th>PriceEuro</th>\n",
       "    </tr>\n",
       "  </thead>\n",
       "  <tbody>\n",
       "    <tr>\n",
       "      <th>0</th>\n",
       "      <td>30.0</td>\n",
       "      <td>4.6</td>\n",
       "      <td>233</td>\n",
       "      <td>450</td>\n",
       "      <td>161</td>\n",
       "      <td>50.0</td>\n",
       "      <td>1.0</td>\n",
       "      <td>0.0</td>\n",
       "      <td>2.0</td>\n",
       "      <td>7.0</td>\n",
       "      <td>3.0</td>\n",
       "      <td>5</td>\n",
       "      <td>55480</td>\n",
       "    </tr>\n",
       "    <tr>\n",
       "      <th>1</th>\n",
       "      <td>31.0</td>\n",
       "      <td>10.0</td>\n",
       "      <td>160</td>\n",
       "      <td>270</td>\n",
       "      <td>167</td>\n",
       "      <td>7.0</td>\n",
       "      <td>1.0</td>\n",
       "      <td>2.0</td>\n",
       "      <td>2.0</td>\n",
       "      <td>1.0</td>\n",
       "      <td>2.0</td>\n",
       "      <td>5</td>\n",
       "      <td>30000</td>\n",
       "    </tr>\n",
       "    <tr>\n",
       "      <th>2</th>\n",
       "      <td>23.0</td>\n",
       "      <td>4.7</td>\n",
       "      <td>210</td>\n",
       "      <td>400</td>\n",
       "      <td>181</td>\n",
       "      <td>36.0</td>\n",
       "      <td>1.0</td>\n",
       "      <td>0.0</td>\n",
       "      <td>2.0</td>\n",
       "      <td>2.0</td>\n",
       "      <td>3.0</td>\n",
       "      <td>5</td>\n",
       "      <td>56440</td>\n",
       "    </tr>\n",
       "    <tr>\n",
       "      <th>3</th>\n",
       "      <td>2.0</td>\n",
       "      <td>6.8</td>\n",
       "      <td>180</td>\n",
       "      <td>360</td>\n",
       "      <td>206</td>\n",
       "      <td>32.0</td>\n",
       "      <td>1.0</td>\n",
       "      <td>2.0</td>\n",
       "      <td>2.0</td>\n",
       "      <td>6.0</td>\n",
       "      <td>3.0</td>\n",
       "      <td>5</td>\n",
       "      <td>68040</td>\n",
       "    </tr>\n",
       "    <tr>\n",
       "      <th>4</th>\n",
       "      <td>9.0</td>\n",
       "      <td>9.5</td>\n",
       "      <td>145</td>\n",
       "      <td>170</td>\n",
       "      <td>168</td>\n",
       "      <td>2.0</td>\n",
       "      <td>1.0</td>\n",
       "      <td>2.0</td>\n",
       "      <td>2.0</td>\n",
       "      <td>1.0</td>\n",
       "      <td>1.0</td>\n",
       "      <td>4</td>\n",
       "      <td>32997</td>\n",
       "    </tr>\n",
       "  </tbody>\n",
       "</table>\n",
       "</div>"
      ]
     },
     "execution_count": 254,
     "metadata": {},
     "output_type": "execute_result"
    }
   ],
   "execution_count": 254
  },
  {
   "metadata": {
    "ExecuteTime": {
     "end_time": "2024-12-05T20:15:14.232005Z",
     "start_time": "2024-12-05T20:15:14.228635Z"
    }
   },
   "cell_type": "code",
   "source": [
    "X = df.drop(columns='PriceEuro')\n",
    "Y = df['PriceEuro']\n",
    "X_train,X_test,Y_train,Y_test = train_test_split(X,Y,test_size=0.2,random_state=42)\n",
    "# scaler = MinMaxScaler()\n",
    "# scaler.fit(X_train)\n",
    "# X_train = scaler.fit_transform(X_train)\n",
    "# X_train = scaler.transform(X_train)"
   ],
   "outputs": [],
   "execution_count": 255
  },
  {
   "cell_type": "markdown",
   "source": [
    "## Initialize the DecisionTreeRegressor model, and use the fit function for training the model.\n",
    "\n",
    "Add values for the parameters max_depth, min_samples_split, and max_features."
   ],
   "metadata": {
    "id": "MAwYp-8O5ieU"
   }
  },
  {
   "cell_type": "markdown",
   "source": [
    "Fit the model using the fit function\n"
   ],
   "metadata": {
    "id": "GkrmN30657S6"
   }
  },
  {
   "cell_type": "code",
   "source": [
    "model1 = DecisionTreeRegressor(max_depth=5,min_samples_split=3,max_features='sqrt')\n",
    "model1.fit(X_train,Y_train)\n",
    "y_pred = model1.predict(X_test)"
   ],
   "metadata": {
    "id": "L1av3xed55AX",
    "ExecuteTime": {
     "end_time": "2024-12-05T20:15:14.253867Z",
     "start_time": "2024-12-05T20:15:14.250525Z"
    }
   },
   "outputs": [],
   "execution_count": 256
  },
  {
   "metadata": {
    "ExecuteTime": {
     "end_time": "2024-12-05T20:15:14.268754Z",
     "start_time": "2024-12-05T20:15:14.266466Z"
    }
   },
   "cell_type": "code",
   "source": [
    "r2_score_1 = r2_score(Y_test,y_pred)\n",
    "mse_score_1 = mean_squared_error(Y_test,y_pred)\n",
    "mae_score_1 = mean_absolute_error(Y_test,y_pred)"
   ],
   "outputs": [],
   "execution_count": 257
  },
  {
   "cell_type": "markdown",
   "source": [
    "## Predict the outcomes for X test"
   ],
   "metadata": {
    "id": "PUosxgf-59z0"
   }
  },
  {
   "cell_type": "markdown",
   "source": [
    "## Assess the model performance, by using sklearn metrics for regression"
   ],
   "metadata": {
    "id": "vSwumlmu6ADR"
   }
  },
  {
   "cell_type": "code",
   "source": "#done",
   "metadata": {
    "id": "LKkc6JJP6B_B",
    "ExecuteTime": {
     "end_time": "2024-12-05T20:15:14.278695Z",
     "start_time": "2024-12-05T20:15:14.277314Z"
    }
   },
   "outputs": [],
   "execution_count": 258
  },
  {
   "cell_type": "markdown",
   "source": [
    "## Initialize the XGBRegressor model, and use the fit function"
   ],
   "metadata": {
    "id": "5R3RhfE86E8Y"
   }
  },
  {
   "cell_type": "markdown",
   "source": [
    "Add values for the parameters: n_estimators, max_depth, learning_rate, and set the objective to \"reg:squarederror\""
   ],
   "metadata": {
    "id": "D1-1GuOW6Pd5"
   }
  },
  {
   "cell_type": "markdown",
   "source": [
    "Fit the model using the fit function"
   ],
   "metadata": {
    "id": "yCnhvQSO6kzL"
   }
  },
  {
   "cell_type": "code",
   "source": "model2 = XGBRegressor(learning_rate=0.2,max_depth=5,objective='reg:squarederror',n_estimators=50)",
   "metadata": {
    "id": "GgmmDDSs6PKH",
    "ExecuteTime": {
     "end_time": "2024-12-05T20:15:14.295780Z",
     "start_time": "2024-12-05T20:15:14.293924Z"
    }
   },
   "outputs": [],
   "execution_count": 259
  },
  {
   "metadata": {
    "ExecuteTime": {
     "end_time": "2024-12-05T20:15:14.337788Z",
     "start_time": "2024-12-05T20:15:14.305461Z"
    }
   },
   "cell_type": "code",
   "source": [
    "model2.fit(X_train,Y_train)\n",
    "y_pred = model2.predict(X_test)"
   ],
   "outputs": [],
   "execution_count": 260
  },
  {
   "metadata": {
    "ExecuteTime": {
     "end_time": "2024-12-05T20:15:14.348759Z",
     "start_time": "2024-12-05T20:15:14.346522Z"
    }
   },
   "cell_type": "code",
   "source": [
    "r2_score_2= r2_score(Y_test,y_pred)\n",
    "mse_score_2 = mean_squared_error(Y_test,y_pred)\n",
    "mae_score_2 = mean_absolute_error(Y_test,y_pred)"
   ],
   "outputs": [],
   "execution_count": 261
  },
  {
   "cell_type": "markdown",
   "source": [
    "## Predict the outcomes for X test"
   ],
   "metadata": {
    "id": "FltYcNCS6noz"
   }
  },
  {
   "cell_type": "code",
   "source": [
    "print(f\"MSE - DTR = {mse_score_1} | XGB = {mse_score_2}\")\n",
    "print(f\"R2 score - DTR = {r2_score_1} | XGB = {r2_score_2}\")\n",
    "print(f\"MAE - DTR = {mae_score_1} | XGB = {mae_score_2}\")"
   ],
   "metadata": {
    "id": "VTqn6Xms6n6C",
    "ExecuteTime": {
     "end_time": "2024-12-05T20:15:14.358801Z",
     "start_time": "2024-12-05T20:15:14.357328Z"
    }
   },
   "outputs": [
    {
     "name": "stdout",
     "output_type": "stream",
     "text": [
      "MSE - DTR = 293777238.3813657 | XGB = 115190794.01044355\n",
      "R2 score - DTR = 0.6295544863843181 | XGB = 0.8547473549842834\n",
      "MAE - DTR = 11222.0376984127 | XGB = 6861.390438988095\n"
     ]
    }
   ],
   "execution_count": 262
  },
  {
   "cell_type": "markdown",
   "source": [
    "## Assess the model performance, by using sklearn metrics for regression"
   ],
   "metadata": {
    "id": "OQ38frvF6oeb"
   }
  },
  {
   "cell_type": "code",
   "source": [],
   "metadata": {
    "id": "7E76dwNa6qfS",
    "ExecuteTime": {
     "end_time": "2024-12-05T20:15:14.425763Z",
     "start_time": "2024-12-05T20:15:14.424596Z"
    }
   },
   "outputs": [],
   "execution_count": null
  },
  {
   "cell_type": "markdown",
   "source": [
    "## Compare the performances of both model for at least three regression metircs"
   ],
   "metadata": {
    "id": "0axT9BpB6q5p"
   }
  },
  {
   "cell_type": "code",
   "source": "print(\"DecisionTreeRegressor e podobro od XGBRegressor\") if model1_r2score > model2_r2score else print(\"XGBRegressor e podobro od DecisionTreeRegressor\")",
   "metadata": {
    "id": "pXwNpoBn6xM-",
    "ExecuteTime": {
     "end_time": "2024-12-05T20:15:14.436138Z",
     "start_time": "2024-12-05T20:15:14.434682Z"
    }
   },
   "outputs": [
    {
     "name": "stdout",
     "output_type": "stream",
     "text": [
      "XGBRegressor e podobro od DecisionTreeRegressor\n"
     ]
    }
   ],
   "execution_count": 263
  },
  {
   "metadata": {
    "ExecuteTime": {
     "end_time": "2024-12-05T20:15:14.449087Z",
     "start_time": "2024-12-05T20:15:14.447893Z"
    }
   },
   "cell_type": "code",
   "source": "",
   "outputs": [],
   "execution_count": null
  },
  {
   "metadata": {
    "ExecuteTime": {
     "end_time": "2024-12-05T20:15:14.468288Z",
     "start_time": "2024-12-05T20:15:14.467083Z"
    }
   },
   "cell_type": "code",
   "source": "",
   "outputs": [],
   "execution_count": null
  }
 ]
}
